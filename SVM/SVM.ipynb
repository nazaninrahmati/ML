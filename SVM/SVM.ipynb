{
 "cells": [
  {
   "cell_type": "markdown",
   "id": "4bfa3bb0",
   "metadata": {},
   "source": [
    "## Objective\n",
    "This study aimed to determine the relationship between maternal risk factors and stillbirth, and explores the concepts related to data mining, which is widely used in healthcare."
   ]
  },
  {
   "cell_type": "markdown",
   "id": "055d013f",
   "metadata": {},
   "source": [
    "## Methods\n",
    "A case-control study was conducted. The study group in this study consists of women’s all childbirth in 12 provinces of Iran from 2017 to 2020. We used data mining algorithms to investigate our desired data. The article compares the accuracy for six data mining techniques including Naive Bayes, Logistic Regression, Deep Learning, Decision Tree, Gradient, SVM and verifies model results."
   ]
  },
  {
   "cell_type": "markdown",
   "id": "b12f3ae4",
   "metadata": {},
   "source": [
    "## Introduction\n",
    "Stillbirth is one of the most common and concerning pregnancy outcomes which causes physiological effects and physiological consequences for mothers. It also has great impacts on families and society. Today, stillbirth prevention is one of the challenges of maternal care. Different conditions can lead to stillbirth. The main reason is not found and stillbirth is still a multifactorial phenomenon. Therefore, stillbirth can be considered as one of the most common consequences of pregnancy.It can be serious and even life-threatening. The transformation of raw clinical data into meaningful information is the top challenge of data structure in health care. Despite the abundance of data, many health care organizations are faced with a lack of knowledge. In other words, facing up with massive datasets have created new needs such as automated data aggregation, knowledge extraction and patterns discovery from raw data. Data mining is one of the methods used for these purposes. The role of predictive data mining in healthcare is to provide a model that can predict outcomes using patient-specific information and make decisions based on it."
   ]
  },
  {
   "cell_type": "markdown",
   "id": "7eecd6d9",
   "metadata": {},
   "source": [
    "### Support Vector Machine\n",
    "SVM classification is a technique in which we can find decision hyper-planes that determine decision boundaries in the area of problem space. The purpose of the Support Vector Machines is to design a decision surface and separate the margin between the different levels. The SVM finds this hyperplane using support vectors and margins. It divides the space into two half parts to separate data values.This technique works well with noise data. However, this technique, like neural networks, is an efficient model because it has the properties of a black box. It often reveals hidden relationships, but no complete information is available on how it works."
   ]
  },
  {
   "cell_type": "markdown",
   "id": "3be5e651",
   "metadata": {},
   "source": [
    "## import libraries"
   ]
  },
  {
   "cell_type": "code",
   "execution_count": 1,
   "id": "574b68c5",
   "metadata": {},
   "outputs": [],
   "source": [
    "import pandas as pd\n",
    "import pylab as pl\n",
    "import numpy as np\n",
    "import scipy.optimize as opt\n",
    "from sklearn import preprocessing\n",
    "from sklearn.model_selection import train_test_split\n",
    "%matplotlib inline \n",
    "import matplotlib.pyplot as plt"
   ]
  },
  {
   "cell_type": "code",
   "execution_count": 1,
   "id": "d51d93b1",
   "metadata": {},
   "outputs": [
    {
     "ename": "NameError",
     "evalue": "name 'pd' is not defined",
     "output_type": "error",
     "traceback": [
      "\u001b[1;31m---------------------------------------------------------------------------\u001b[0m",
      "\u001b[1;31mNameError\u001b[0m                                 Traceback (most recent call last)",
      "\u001b[1;32m<ipython-input-1-8113f2c16c37>\u001b[0m in \u001b[0;36m<module>\u001b[1;34m\u001b[0m\n\u001b[1;32m----> 1\u001b[1;33m \u001b[0mdata\u001b[0m\u001b[1;33m=\u001b[0m\u001b[0mpd\u001b[0m\u001b[1;33m.\u001b[0m\u001b[0mread_csv\u001b[0m\u001b[1;33m(\u001b[0m\u001b[1;34m'SVM/A - Copy.csv'\u001b[0m\u001b[1;33m)\u001b[0m\u001b[1;33m\u001b[0m\u001b[1;33m\u001b[0m\u001b[0m\n\u001b[0m\u001b[0;32m      2\u001b[0m \u001b[0mdata\u001b[0m\u001b[1;33m[\u001b[0m\u001b[1;34m'Previousoutcomepregnanancy'\u001b[0m\u001b[1;33m]\u001b[0m\u001b[1;33m.\u001b[0m\u001b[0mvalue_counts\u001b[0m\u001b[1;33m(\u001b[0m\u001b[1;33m)\u001b[0m\u001b[1;33m\u001b[0m\u001b[1;33m\u001b[0m\u001b[0m\n",
      "\u001b[1;31mNameError\u001b[0m: name 'pd' is not defined"
     ]
    }
   ],
   "source": [
    "data=pd.read_csv('SVM/A - Copy.csv')\n",
    "data['Previousoutcomepregnanancy'].value_counts()"
   ]
  },
  {
   "cell_type": "code",
   "execution_count": 3,
   "id": "a48a5b50",
   "metadata": {
    "scrolled": false
   },
   "outputs": [
    {
     "data": {
      "text/plain": [
       "array([[ 1,  4, 19,  2,  5,  1,  0,  1,  0,  1,  2,  2,  1,  1,  2,  2,\n",
       "         2],\n",
       "       [ 1,  1, 22,  1,  5,  2,  2,  1,  2,  1,  2,  2,  2,  6,  2,  2,\n",
       "         2],\n",
       "       [ 1,  4, 24,  2,  5,  1,  1,  1,  0,  1,  2,  2,  1,  2,  1,  2,\n",
       "         2],\n",
       "       [ 1,  2, 25,  2,  5,  1,  2,  1,  2,  1,  2,  4,  1,  6,  1,  2,\n",
       "         2],\n",
       "       [ 1,  1, 44,  2,  5,  2,  8,  1,  0,  1,  2,  4,  2,  9,  2,  2,\n",
       "         2]], dtype=int64)"
      ]
     },
     "execution_count": 3,
     "metadata": {},
     "output_type": "execute_result"
    }
   ],
   "source": [
    "feature_df = data[['JobNumber', 'MoEducate', 'MoAge', 'MoBloodGroup', 'CityNumber', 'TypeDelivery', 'NumberLiveBirth', 'NumberDeathNeonate', 'NumberAboration', 'EthnicNumber', 'familymarrige', 'Neonateweight', 'taneshlife', 'Paritypregnancy', 'Contraceptionbeforepregnancy', 'Smokingduringpregnancy', 'Smokingparents']]\n",
    "X = np.asarray(feature_df)\n",
    "X[0:5]"
   ]
  },
  {
   "cell_type": "code",
   "execution_count": 4,
   "id": "783ab5ca",
   "metadata": {},
   "outputs": [
    {
     "data": {
      "text/plain": [
       "array([2, 1, 1, 2, 1])"
      ]
     },
     "execution_count": 4,
     "metadata": {},
     "output_type": "execute_result"
    }
   ],
   "source": [
    "data['Previousoutcomepregnanancy'] = data['Previousoutcomepregnanancy'].astype('int')\n",
    "y = np.asarray(data['Previousoutcomepregnanancy'])\n",
    "y [0:5]"
   ]
  },
  {
   "cell_type": "code",
   "execution_count": 5,
   "id": "284697de",
   "metadata": {},
   "outputs": [
    {
     "name": "stdout",
     "output_type": "stream",
     "text": [
      "Train set: (2671, 17) (2671,)\n",
      "Test set: (668, 17) (668,)\n"
     ]
    }
   ],
   "source": [
    "X_train, X_test, y_train, y_test = train_test_split( X, y, test_size=0.2, random_state=4)\n",
    "print ('Train set:', X_train.shape,  y_train.shape)\n",
    "print ('Test set:', X_test.shape,  y_test.shape)"
   ]
  },
  {
   "cell_type": "code",
   "execution_count": 6,
   "id": "f482d524",
   "metadata": {},
   "outputs": [
    {
     "data": {
      "text/plain": [
       "SVC()"
      ]
     },
     "execution_count": 6,
     "metadata": {},
     "output_type": "execute_result"
    }
   ],
   "source": [
    "from sklearn import svm\n",
    "data = svm.SVC(kernel='rbf')\n",
    "data.fit(X_train, y_train)"
   ]
  },
  {
   "cell_type": "code",
   "execution_count": 7,
   "id": "bad284b0",
   "metadata": {},
   "outputs": [
    {
     "data": {
      "text/plain": [
       "array([2, 2, 2, 1, 1])"
      ]
     },
     "execution_count": 7,
     "metadata": {},
     "output_type": "execute_result"
    }
   ],
   "source": [
    "yhat = data.predict(X_test)\n",
    "yhat [0:5]"
   ]
  },
  {
   "cell_type": "code",
   "execution_count": 16,
   "id": "3edafefd",
   "metadata": {},
   "outputs": [],
   "source": [
    "from sklearn.metrics import classification_report, confusion_matrix\n",
    "import itertools"
   ]
  },
  {
   "cell_type": "code",
   "execution_count": 17,
   "id": "86a2eab2",
   "metadata": {},
   "outputs": [],
   "source": [
    "def plot_confusion_matrix(cm, Previousoutcomepregnanancy,\n",
    "                          normalize=False,\n",
    "                          title='Confusion matrix',\n",
    "                          cmap=plt.cm.Blues):\n",
    "    \"\"\"\n",
    "    This function prints and plots the confusion matrix.\n",
    "    Normalization can be applied by setting `normalize=True`.\n",
    "    \"\"\"\n",
    "    if normalize:\n",
    "        cm = cm.astype('float') / cm.sum(axis=1)[:, np.newaxis]\n",
    "        print(\"Normalized confusion matrix\")\n",
    "    else:\n",
    "        print('Confusion matrix, without normalization')\n",
    "\n",
    "    print(cm)\n",
    "\n",
    "    plt.imshow(cm, interpolation='nearest', cmap=cmap)\n",
    "    plt.title(title)\n",
    "    plt.colorbar()\n",
    "    tick_marks = np.arange(len(Previousoutcomepregnanancy))\n",
    "    plt.xticks(tick_marks, Previousoutcomepregnanancy, rotation=45)\n",
    "    plt.yticks(tick_marks, Previousoutcomepregnanancy)\n",
    "\n",
    "    fmt = '.2f' if normalize else 'd'\n",
    "    thresh = cm.max() / 2.\n",
    "    for i, j in itertools.product(range(cm.shape[0]), range(cm.shape[1])):\n",
    "        plt.text(j, i, format(cm[i, j], fmt),\n",
    "                 horizontalalignment=\"center\",\n",
    "                 color=\"white\" if cm[i, j] > thresh else \"black\")\n",
    "\n",
    "    plt.tight_layout()\n",
    "    plt.ylabel('True label')\n",
    "    plt.xlabel('Predicted label')"
   ]
  },
  {
   "cell_type": "code",
   "execution_count": 21,
   "id": "f02864b4",
   "metadata": {},
   "outputs": [
    {
     "name": "stdout",
     "output_type": "stream",
     "text": [
      "              precision    recall  f1-score   support\n",
      "\n",
      "           1       0.90      0.97      0.93       384\n",
      "           2       0.96      0.85      0.90       284\n",
      "\n",
      "    accuracy                           0.92       668\n",
      "   macro avg       0.93      0.91      0.92       668\n",
      "weighted avg       0.92      0.92      0.92       668\n",
      "\n",
      "Confusion matrix, without normalization\n",
      "[[373  11]\n",
      " [ 43 241]]\n"
     ]
    },
    {
     "data": {
      "image/png": "[encoded data removed]",
      "text/plain": [
       "<Figure size 432x288 with 2 Axes>"
      ]
     },
     "metadata": {
      "needs_background": "light"
     },
     "output_type": "display_data"
    }
   ],
   "source": [
    "# Compute confusion matrix\n",
    "cnf_matrix = confusion_matrix(y_test, yhat, labels=[1,2])\n",
    "np.set_printoptions(precision=2)\n",
    "\n",
    "print (classification_report(y_test, yhat))\n",
    "\n",
    "# Plot non-normalized confusion matrix\n",
    "plt.figure()\n",
    "plot_confusion_matrix(cnf_matrix,  Previousoutcomepregnanancy=['livebirth(1)','stillbirth(2)'],normalize= False,  title='Confusion matrix')"
   ]
  }
 ],
 "metadata": {
  "kernelspec": {
   "display_name": "Python 3",
   "language": "python",
   "name": "python3"
  },
  "language_info": {
   "codemirror_mode": {
    "name": "ipython",
    "version": 3
   },
   "file_extension": ".py",
   "mimetype": "text/x-python",
   "name": "python",
   "nbconvert_exporter": "python",
   "pygments_lexer": "ipython3",
   "version": "3.8.8"
  }
 },
 "nbformat": 4,
 "nbformat_minor": 5
}
