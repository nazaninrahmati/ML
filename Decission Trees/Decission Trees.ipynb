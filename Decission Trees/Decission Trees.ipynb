{
 "cells": [
  {
   "cell_type": "code",
   "execution_count": 1,
   "id": "37a79a27",
   "metadata": {},
   "outputs": [],
   "source": [
    "import numpy as np \n",
    "import pandas as pd\n",
    "from sklearn.tree import DecisionTreeClassifier"
   ]
  },
  {
   "cell_type": "code",
   "execution_count": 25,
   "id": "80fe5100",
   "metadata": {
    "scrolled": true
   },
   "outputs": [
    {
     "data": {
      "text/html": [
       "<div>\n",
       "<style scoped>\n",
       "    .dataframe tbody tr th:only-of-type {\n",
       "        vertical-align: middle;\n",
       "    }\n",
       "\n",
       "    .dataframe tbody tr th {\n",
       "        vertical-align: top;\n",
       "    }\n",
       "\n",
       "    .dataframe thead th {\n",
       "        text-align: right;\n",
       "    }\n",
       "</style>\n",
       "<table border=\"1\" class=\"dataframe\">\n",
       "  <thead>\n",
       "    <tr style=\"text-align: right;\">\n",
       "      <th></th>\n",
       "      <th>JobNumber</th>\n",
       "      <th>MoEducate</th>\n",
       "      <th>MoAge</th>\n",
       "      <th>MoBloodGroup</th>\n",
       "      <th>CityNumber</th>\n",
       "      <th>TypeDelivery</th>\n",
       "      <th>NumberLiveBirth</th>\n",
       "      <th>NumberDeathNeonate</th>\n",
       "      <th>NumberAboration</th>\n",
       "      <th>EthnicNumber</th>\n",
       "      <th>familymarrige</th>\n",
       "      <th>Neonateweight</th>\n",
       "      <th>taneshlife</th>\n",
       "      <th>Paritypregnancy</th>\n",
       "      <th>Contraceptionbeforepregnancy</th>\n",
       "      <th>Smokingduringpregnancy</th>\n",
       "      <th>Smokingparents</th>\n",
       "      <th>Previousoutcomepregnanancy</th>\n",
       "    </tr>\n",
       "  </thead>\n",
       "  <tbody>\n",
       "    <tr>\n",
       "      <th>0</th>\n",
       "      <td>housewife</td>\n",
       "      <td>High school</td>\n",
       "      <td>19</td>\n",
       "      <td>B+</td>\n",
       "      <td>5</td>\n",
       "      <td>Vaginal birth</td>\n",
       "      <td>0</td>\n",
       "      <td>1</td>\n",
       "      <td>0</td>\n",
       "      <td>Fars</td>\n",
       "      <td>No</td>\n",
       "      <td>Between 2500 and Unknown000</td>\n",
       "      <td>Always calm</td>\n",
       "      <td>1</td>\n",
       "      <td>2</td>\n",
       "      <td>No</td>\n",
       "      <td>No</td>\n",
       "      <td>StillBirth</td>\n",
       "    </tr>\n",
       "    <tr>\n",
       "      <th>1</th>\n",
       "      <td>housewife</td>\n",
       "      <td>illiterate</td>\n",
       "      <td>33</td>\n",
       "      <td>A+</td>\n",
       "      <td>5</td>\n",
       "      <td>Cesarean</td>\n",
       "      <td>3</td>\n",
       "      <td>1</td>\n",
       "      <td>2</td>\n",
       "      <td>Fars</td>\n",
       "      <td>No</td>\n",
       "      <td>Between 2500 and Unknown000</td>\n",
       "      <td>Sometimes stressful</td>\n",
       "      <td>6</td>\n",
       "      <td>2</td>\n",
       "      <td>No</td>\n",
       "      <td>No</td>\n",
       "      <td>LiveBirth</td>\n",
       "    </tr>\n",
       "    <tr>\n",
       "      <th>2</th>\n",
       "      <td>housewife</td>\n",
       "      <td>High school</td>\n",
       "      <td>24</td>\n",
       "      <td>B+</td>\n",
       "      <td>5</td>\n",
       "      <td>Vaginal birth</td>\n",
       "      <td>1</td>\n",
       "      <td>1</td>\n",
       "      <td>0</td>\n",
       "      <td>Fars</td>\n",
       "      <td>No</td>\n",
       "      <td>Between 2500 and Unknown000</td>\n",
       "      <td>Always calm</td>\n",
       "      <td>2</td>\n",
       "      <td>1</td>\n",
       "      <td>No</td>\n",
       "      <td>No</td>\n",
       "      <td>LiveBirth</td>\n",
       "    </tr>\n",
       "    <tr>\n",
       "      <th>3</th>\n",
       "      <td>housewife</td>\n",
       "      <td>elementary</td>\n",
       "      <td>35</td>\n",
       "      <td>B+</td>\n",
       "      <td>5</td>\n",
       "      <td>Vaginal birth</td>\n",
       "      <td>2</td>\n",
       "      <td>1</td>\n",
       "      <td>3</td>\n",
       "      <td>Fars</td>\n",
       "      <td>No</td>\n",
       "      <td>Unknown</td>\n",
       "      <td>Always calm</td>\n",
       "      <td>6</td>\n",
       "      <td>1</td>\n",
       "      <td>No</td>\n",
       "      <td>No</td>\n",
       "      <td>StillBirth</td>\n",
       "    </tr>\n",
       "    <tr>\n",
       "      <th>4</th>\n",
       "      <td>housewife</td>\n",
       "      <td>illiterate</td>\n",
       "      <td>44</td>\n",
       "      <td>B+</td>\n",
       "      <td>5</td>\n",
       "      <td>Cesarean</td>\n",
       "      <td>8</td>\n",
       "      <td>1</td>\n",
       "      <td>0</td>\n",
       "      <td>Fars</td>\n",
       "      <td>No</td>\n",
       "      <td>Unknown</td>\n",
       "      <td>Relatively calm</td>\n",
       "      <td>9</td>\n",
       "      <td>2</td>\n",
       "      <td>No</td>\n",
       "      <td>No</td>\n",
       "      <td>LiveBirth</td>\n",
       "    </tr>\n",
       "  </tbody>\n",
       "</table>\n",
       "</div>"
      ],
      "text/plain": [
       "   JobNumber    MoEducate  MoAge MoBloodGroup  CityNumber   TypeDelivery  \\\n",
       "0  housewife  High school     19           B+           5  Vaginal birth   \n",
       "1  housewife   illiterate     33           A+           5       Cesarean   \n",
       "2  housewife  High school     24           B+           5  Vaginal birth   \n",
       "3  housewife   elementary     35           B+           5  Vaginal birth   \n",
       "4  housewife   illiterate     44           B+           5       Cesarean   \n",
       "\n",
       "   NumberLiveBirth  NumberDeathNeonate  NumberAboration EthnicNumber  \\\n",
       "0                0                   1                0         Fars   \n",
       "1                3                   1                2         Fars   \n",
       "2                1                   1                0         Fars   \n",
       "3                2                   1                3         Fars   \n",
       "4                8                   1                0         Fars   \n",
       "\n",
       "  familymarrige                Neonateweight           taneshlife  \\\n",
       "0            No  Between 2500 and Unknown000          Always calm   \n",
       "1            No  Between 2500 and Unknown000  Sometimes stressful   \n",
       "2            No  Between 2500 and Unknown000          Always calm   \n",
       "3            No                      Unknown          Always calm   \n",
       "4            No                      Unknown      Relatively calm   \n",
       "\n",
       "   Paritypregnancy  Contraceptionbeforepregnancy Smokingduringpregnancy  \\\n",
       "0                1                             2                     No   \n",
       "1                6                             2                     No   \n",
       "2                2                             1                     No   \n",
       "3                6                             1                     No   \n",
       "4                9                             2                     No   \n",
       "\n",
       "  Smokingparents Previousoutcomepregnanancy  \n",
       "0             No                 StillBirth  \n",
       "1             No                  LiveBirth  \n",
       "2             No                  LiveBirth  \n",
       "3             No                 StillBirth  \n",
       "4             No                  LiveBirth  "
      ]
     },
     "execution_count": 25,
     "metadata": {},
     "output_type": "execute_result"
    }
   ],
   "source": [
    "data = pd.read_csv('Decision Tree/Decision Tree.csv', delimiter=',')\n",
    "data[0:5]"
   ]
  },
  {
   "cell_type": "code",
   "execution_count": 3,
   "id": "b4544927",
   "metadata": {},
   "outputs": [
    {
     "data": {
      "text/plain": [
       "(3339, 18)"
      ]
     },
     "execution_count": 3,
     "metadata": {},
     "output_type": "execute_result"
    }
   ],
   "source": [
    "data.shape"
   ]
  },
  {
   "cell_type": "markdown",
   "id": "673113b1",
   "metadata": {},
   "source": [
    "### Pre-processing\n",
    "Using data as the Copy (2).csv data read by pandas, declare the following variables:\n",
    "\n",
    "  1. X as the Feature Matrix (data of data)\n",
    "  2. y as the response vector (target)\n",
    "\n",
    "Remove the column containing the target name since it doesn't contain numeric values.\n"
   ]
  },
  {
   "cell_type": "code",
   "execution_count": 4,
   "id": "f66d4b9c",
   "metadata": {},
   "outputs": [
    {
     "data": {
      "text/plain": [
       "array([[ 1,  4, 19,  3,  5,  1,  0,  1,  0,  1,  2,  2,  1,  1,  2,  2,\n",
       "         2],\n",
       "       [ 1,  1, 33,  1,  5,  2,  3,  1,  2,  1,  2,  2,  3,  6,  2,  2,\n",
       "         2],\n",
       "       [ 1,  4, 24,  3,  5,  1,  1,  1,  0,  1,  2,  2,  1,  2,  1,  2,\n",
       "         2],\n",
       "       [ 1,  2, 35,  3,  5,  1,  2,  1,  3,  1,  2,  4,  1,  6,  1,  2,\n",
       "         2],\n",
       "       [ 1,  1, 44,  3,  5,  2,  8,  1,  0,  1,  2,  4,  2,  9,  2,  2,\n",
       "         2]], dtype=int64)"
      ]
     },
     "execution_count": 4,
     "metadata": {},
     "output_type": "execute_result"
    }
   ],
   "source": [
    "X = data[['JobNumber', 'MoEducate','MoAge', 'MoBloodGroup', 'CityNumber', 'TypeDelivery', 'NumberLiveBirth','NumberDeathNeonate', 'NumberAboration', 'EthnicNumber', 'familymarrige', 'Neonateweight', 'taneshlife', 'Paritypregnancy', 'Contraceptionbeforepregnancy', 'Smokingduringpregnancy', 'Smokingparents']] .values  #.astype(float)\n",
    "X[0:5]"
   ]
  },
  {
   "cell_type": "code",
   "execution_count": 5,
   "id": "c68dded4",
   "metadata": {},
   "outputs": [
    {
     "data": {
      "text/plain": [
       "array([4, 1, 1, 3, 1], dtype=int64)"
      ]
     },
     "execution_count": 5,
     "metadata": {},
     "output_type": "execute_result"
    }
   ],
   "source": [
    "y = data['Previousoutcomepregnanancy'].values\n",
    "y[0:5]"
   ]
  },
  {
   "cell_type": "markdown",
   "id": "dcb6a09c",
   "metadata": {},
   "source": [
    "### Setting up the Decision Tree\n",
    "We will be using train/test split on our decision tree. Let's import train_test_split from sklearn.cross_validation.\n"
   ]
  },
  {
   "cell_type": "code",
   "execution_count": 7,
   "id": "896f7a55",
   "metadata": {},
   "outputs": [],
   "source": [
    "from sklearn.model_selection import train_test_split\n"
   ]
  },
  {
   "cell_type": "markdown",
   "id": "cc3c357a",
   "metadata": {},
   "source": [
    "Now train_test_split will return 4 different parameters. We will name them:\n",
    "X_trainset, X_testset, y_trainset, y_testset\n",
    "\n",
    "The train_test_split will need the parameters:\n",
    "X, y, test_size=0.3, and random_state=3.\n",
    "\n",
    "The X and y are the arrays required before the split, the test_size represents the ratio of the testing dataset, and the random_state ensures that we obtain the same splits"
   ]
  },
  {
   "cell_type": "code",
   "execution_count": 8,
   "id": "6ced1af7",
   "metadata": {},
   "outputs": [],
   "source": [
    "X_trainset, X_testset, y_trainset, y_testset = train_test_split(X, y, test_size=0.3, random_state=3)\n"
   ]
  },
  {
   "cell_type": "markdown",
   "id": "b5202a24",
   "metadata": {},
   "source": [
    "#### Modeling\n",
    " We will first create an instance of the DecisionTreeClassifier called drugTree.\n",
    " Inside of the classifier, specify criterion=\"entropy\" so we can see the information gain of each node."
   ]
  },
  {
   "cell_type": "code",
   "execution_count": 9,
   "id": "007c4efd",
   "metadata": {},
   "outputs": [
    {
     "data": {
      "text/plain": [
       "DecisionTreeClassifier(criterion='entropy', max_depth=4)"
      ]
     },
     "execution_count": 9,
     "metadata": {},
     "output_type": "execute_result"
    }
   ],
   "source": [
    "PreviousoutcomepregnanancyTree = DecisionTreeClassifier(criterion=\"entropy\", max_depth = 4)\n",
    "PreviousoutcomepregnanancyTree # it shows the default parameters"
   ]
  },
  {
   "cell_type": "markdown",
   "id": "99c52fd0",
   "metadata": {},
   "source": [
    "Next, we will fit the data with the training feature matrix X_trainset and training response vector y_trainset\n",
    "\n"
   ]
  },
  {
   "cell_type": "code",
   "execution_count": 10,
   "id": "4551242f",
   "metadata": {},
   "outputs": [
    {
     "data": {
      "text/plain": [
       "DecisionTreeClassifier(criterion='entropy', max_depth=4)"
      ]
     },
     "execution_count": 10,
     "metadata": {},
     "output_type": "execute_result"
    }
   ],
   "source": [
    "PreviousoutcomepregnanancyTree.fit(X_trainset,y_trainset)\n"
   ]
  },
  {
   "cell_type": "markdown",
   "id": "87a6c6a4",
   "metadata": {},
   "source": [
    "### Prediction\n",
    "Let's make some predictions on the testing dataset and store it into a variable called predTree.\n",
    "\n"
   ]
  },
  {
   "cell_type": "code",
   "execution_count": 11,
   "id": "552fbee8",
   "metadata": {},
   "outputs": [],
   "source": [
    "predTree = PreviousoutcomepregnanancyTree.predict(X_testset)\n"
   ]
  },
  {
   "cell_type": "markdown",
   "id": "b54d460b",
   "metadata": {},
   "source": [
    "You can print out predTree and y_testset if you want to visually compare the predictions to the actual values.\n",
    "\n"
   ]
  },
  {
   "cell_type": "code",
   "execution_count": 12,
   "id": "8720e15c",
   "metadata": {},
   "outputs": [
    {
     "name": "stdout",
     "output_type": "stream",
     "text": [
      "[1 1 4 1 1]\n",
      "[1 1 4 1 1]\n"
     ]
    }
   ],
   "source": [
    "print (predTree [0:5])\n",
    "print (y_testset [0:5])"
   ]
  },
  {
   "cell_type": "markdown",
   "id": "148d0eea",
   "metadata": {},
   "source": [
    "### Evaluation\n",
    " Next, let's import metrics from sklearn and check the accuracy of our model.\n"
   ]
  },
  {
   "cell_type": "code",
   "execution_count": 27,
   "id": "49a344cc",
   "metadata": {},
   "outputs": [
    {
     "name": "stdout",
     "output_type": "stream",
     "text": [
      "DecisionTrees's Accuracy:  0.9331337325349301\n"
     ]
    }
   ],
   "source": [
    "from sklearn import metrics\n",
    "import matplotlib.pyplot as plt\n",
    "print(\"DecisionTrees's Accuracy: \", metrics.accuracy_score(y_testset, predTree))"
   ]
  },
  {
   "cell_type": "markdown",
   "id": "4c9ed866",
   "metadata": {},
   "source": [
    "Accuracy classification score computes subset accuracy: the set of labels predicted for a sample must exactly match the corresponding set of labels in y_true.\n",
    "\n",
    "In multilabel classification, the function returns the subset accuracy. If the entire set of predicted labels for a sample strictly match with the true set of labels, then the subset accuracy is 1.0; otherwise it is 0.0."
   ]
  }
 ],
 "metadata": {
  "kernelspec": {
   "display_name": "Python 3",
   "language": "python",
   "name": "python3"
  },
  "language_info": {
   "codemirror_mode": {
    "name": "ipython",
    "version": 3
   },
   "file_extension": ".py",
   "mimetype": "text/x-python",
   "name": "python",
   "nbconvert_exporter": "python",
   "pygments_lexer": "ipython3",
   "version": "3.8.8"
  }
 },
 "nbformat": 4,
 "nbformat_minor": 5
}
