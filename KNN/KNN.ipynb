{
 "cells": [
  {
   "cell_type": "markdown",
   "id": "ee2f2951",
   "metadata": {},
   "source": [
    "## K-Nearest Neighbors"
   ]
  },
  {
   "cell_type": "markdown",
   "id": "73b12d5c",
   "metadata": {},
   "source": [
    "### K-Nearest Neighbors \n",
    " is a supervised learning algorithm. Where the data is 'trained' with data points corresponding to their classification. To predict the class of a given data point, it takes into account the classes of the 'K' nearest data points and chooses the class in which the majority of the 'K' nearest data points belong to as the predicted class"
   ]
  },
  {
   "cell_type": "code",
   "execution_count": 2,
   "id": "78a30332",
   "metadata": {},
   "outputs": [],
   "source": [
    "import numpy as np\n",
    "import matplotlib.pyplot as plt\n",
    "import pandas as pd\n",
    "from sklearn import preprocessing\n",
    "%matplotlib inline\n"
   ]
  },
  {
   "cell_type": "markdown",
   "id": "c07d1f07",
   "metadata": {},
   "source": [
    "### About the dataset\n",
    "Imagine a Health Center has segmented its base by Maternity patterns, categorizing the Maternity into 5 groups. If demographic data can be used to predict group Maternity, the Health Center can customize offers for individual prospective Mothers. It is a classification problem. That is, given the dataset, with predefined labels, we need to build a model to be used to predict the class of a new or unknown case.\n",
    "\n",
    "The example focuses on using demographic data, such as city, age, and so on, to predict usage patterns.\n",
    "\n",
    "The target field, called Previousoutcomepregnanancy, has five possible values.\n",
    "\n",
    "Our objective is to build a classifier, to predict the class of unknown cases. We will use a specific type of classification called K nearest neighbor."
   ]
  },
  {
   "cell_type": "markdown",
   "id": "92a27eed",
   "metadata": {},
   "source": [
    "#### Load Data From CSV File"
   ]
  },
  {
   "cell_type": "code",
   "execution_count": 8,
   "id": "02f90fa9",
   "metadata": {},
   "outputs": [
    {
     "data": {
      "text/html": [
       "<div>\n",
       "<style scoped>\n",
       "    .dataframe tbody tr th:only-of-type {\n",
       "        vertical-align: middle;\n",
       "    }\n",
       "\n",
       "    .dataframe tbody tr th {\n",
       "        vertical-align: top;\n",
       "    }\n",
       "\n",
       "    .dataframe thead th {\n",
       "        text-align: right;\n",
       "    }\n",
       "</style>\n",
       "<table border=\"1\" class=\"dataframe\">\n",
       "  <thead>\n",
       "    <tr style=\"text-align: right;\">\n",
       "      <th></th>\n",
       "      <th>JobNumber</th>\n",
       "      <th>MoEducate</th>\n",
       "      <th>MoAge</th>\n",
       "      <th>MoBloodGroup</th>\n",
       "      <th>CityNumber</th>\n",
       "      <th>TypeDelivery</th>\n",
       "      <th>NumberLiveBirth</th>\n",
       "      <th>NumberDeathNeonate</th>\n",
       "      <th>NumberAboration</th>\n",
       "      <th>EthnicNumber</th>\n",
       "      <th>familymarrige</th>\n",
       "      <th>Neonateweight</th>\n",
       "      <th>taneshlife</th>\n",
       "      <th>Paritypregnancy</th>\n",
       "      <th>Contraceptionbeforepregnancy</th>\n",
       "      <th>Smokingduringpregnancy</th>\n",
       "      <th>Smokingparents</th>\n",
       "      <th>Previousoutcomepregnanancy</th>\n",
       "    </tr>\n",
       "  </thead>\n",
       "  <tbody>\n",
       "    <tr>\n",
       "      <th>0</th>\n",
       "      <td>1</td>\n",
       "      <td>4</td>\n",
       "      <td>19</td>\n",
       "      <td>3</td>\n",
       "      <td>5</td>\n",
       "      <td>1</td>\n",
       "      <td>0</td>\n",
       "      <td>1</td>\n",
       "      <td>0</td>\n",
       "      <td>1</td>\n",
       "      <td>2</td>\n",
       "      <td>2</td>\n",
       "      <td>1</td>\n",
       "      <td>1</td>\n",
       "      <td>2</td>\n",
       "      <td>2</td>\n",
       "      <td>2</td>\n",
       "      <td>4</td>\n",
       "    </tr>\n",
       "    <tr>\n",
       "      <th>1</th>\n",
       "      <td>1</td>\n",
       "      <td>1</td>\n",
       "      <td>33</td>\n",
       "      <td>1</td>\n",
       "      <td>5</td>\n",
       "      <td>2</td>\n",
       "      <td>3</td>\n",
       "      <td>1</td>\n",
       "      <td>2</td>\n",
       "      <td>1</td>\n",
       "      <td>2</td>\n",
       "      <td>2</td>\n",
       "      <td>3</td>\n",
       "      <td>6</td>\n",
       "      <td>2</td>\n",
       "      <td>2</td>\n",
       "      <td>2</td>\n",
       "      <td>1</td>\n",
       "    </tr>\n",
       "    <tr>\n",
       "      <th>2</th>\n",
       "      <td>1</td>\n",
       "      <td>4</td>\n",
       "      <td>24</td>\n",
       "      <td>3</td>\n",
       "      <td>5</td>\n",
       "      <td>1</td>\n",
       "      <td>1</td>\n",
       "      <td>1</td>\n",
       "      <td>0</td>\n",
       "      <td>1</td>\n",
       "      <td>2</td>\n",
       "      <td>2</td>\n",
       "      <td>1</td>\n",
       "      <td>2</td>\n",
       "      <td>1</td>\n",
       "      <td>2</td>\n",
       "      <td>2</td>\n",
       "      <td>1</td>\n",
       "    </tr>\n",
       "    <tr>\n",
       "      <th>3</th>\n",
       "      <td>1</td>\n",
       "      <td>2</td>\n",
       "      <td>35</td>\n",
       "      <td>3</td>\n",
       "      <td>5</td>\n",
       "      <td>1</td>\n",
       "      <td>2</td>\n",
       "      <td>1</td>\n",
       "      <td>3</td>\n",
       "      <td>1</td>\n",
       "      <td>2</td>\n",
       "      <td>4</td>\n",
       "      <td>1</td>\n",
       "      <td>6</td>\n",
       "      <td>1</td>\n",
       "      <td>2</td>\n",
       "      <td>2</td>\n",
       "      <td>3</td>\n",
       "    </tr>\n",
       "    <tr>\n",
       "      <th>4</th>\n",
       "      <td>1</td>\n",
       "      <td>1</td>\n",
       "      <td>44</td>\n",
       "      <td>3</td>\n",
       "      <td>5</td>\n",
       "      <td>2</td>\n",
       "      <td>8</td>\n",
       "      <td>1</td>\n",
       "      <td>0</td>\n",
       "      <td>1</td>\n",
       "      <td>2</td>\n",
       "      <td>4</td>\n",
       "      <td>2</td>\n",
       "      <td>9</td>\n",
       "      <td>2</td>\n",
       "      <td>2</td>\n",
       "      <td>2</td>\n",
       "      <td>1</td>\n",
       "    </tr>\n",
       "  </tbody>\n",
       "</table>\n",
       "</div>"
      ],
      "text/plain": [
       "   JobNumber  MoEducate  MoAge  MoBloodGroup  CityNumber  TypeDelivery  \\\n",
       "0          1          4     19             3           5             1   \n",
       "1          1          1     33             1           5             2   \n",
       "2          1          4     24             3           5             1   \n",
       "3          1          2     35             3           5             1   \n",
       "4          1          1     44             3           5             2   \n",
       "\n",
       "   NumberLiveBirth  NumberDeathNeonate  NumberAboration  EthnicNumber  \\\n",
       "0                0                   1                0             1   \n",
       "1                3                   1                2             1   \n",
       "2                1                   1                0             1   \n",
       "3                2                   1                3             1   \n",
       "4                8                   1                0             1   \n",
       "\n",
       "   familymarrige  Neonateweight  taneshlife  Paritypregnancy  \\\n",
       "0              2              2           1                1   \n",
       "1              2              2           3                6   \n",
       "2              2              2           1                2   \n",
       "3              2              4           1                6   \n",
       "4              2              4           2                9   \n",
       "\n",
       "   Contraceptionbeforepregnancy  Smokingduringpregnancy  Smokingparents  \\\n",
       "0                             2                       2               2   \n",
       "1                             2                       2               2   \n",
       "2                             1                       2               2   \n",
       "3                             1                       2               2   \n",
       "4                             2                       2               2   \n",
       "\n",
       "   Previousoutcomepregnanancy  \n",
       "0                           4  \n",
       "1                           1  \n",
       "2                           1  \n",
       "3                           3  \n",
       "4                           1  "
      ]
     },
     "execution_count": 8,
     "metadata": {},
     "output_type": "execute_result"
    }
   ],
   "source": [
    "data=pd.read_csv('KNN/A - Copy (2).csv')\n",
    "data.head()"
   ]
  },
  {
   "cell_type": "markdown",
   "id": "fa3c5c1d",
   "metadata": {},
   "source": [
    "#### Data Visualization and Analysis\n"
   ]
  },
  {
   "cell_type": "code",
   "execution_count": 6,
   "id": "70092807",
   "metadata": {},
   "outputs": [
    {
     "data": {
      "text/plain": [
       "1    1955\n",
       "4    1079\n",
       "3     205\n",
       "2      96\n",
       "5       4\n",
       "Name: Previousoutcomepregnanancy, dtype: int64"
      ]
     },
     "execution_count": 6,
     "metadata": {},
     "output_type": "execute_result"
    }
   ],
   "source": [
    "data['Previousoutcomepregnanancy'].value_counts()\n"
   ]
  },
  {
   "cell_type": "code",
   "execution_count": 10,
   "id": "72385f42",
   "metadata": {},
   "outputs": [
    {
     "data": {
      "text/plain": [
       "array([[<AxesSubplot:title={'center':'CityNumber'}>]], dtype=object)"
      ]
     },
     "execution_count": 10,
     "metadata": {},
     "output_type": "execute_result"
    },
    {
     "data": {
      "image/png": "[encoded data removed]",
      "text/plain": [
       "<Figure size 432x288 with 1 Axes>"
      ]
     },
     "metadata": {
      "needs_background": "light"
     },
     "output_type": "display_data"
    }
   ],
   "source": [
    "data.hist(column='CityNumber', bins=50)"
   ]
  },
  {
   "cell_type": "markdown",
   "id": "86efda81",
   "metadata": {},
   "source": [
    "#### Feature set"
   ]
  },
  {
   "cell_type": "code",
   "execution_count": 12,
   "id": "1f728c90",
   "metadata": {},
   "outputs": [
    {
     "data": {
      "text/plain": [
       "Index(['JobNumber', 'MoEducate', 'MoAge', 'MoBloodGroup', 'CityNumber',\n",
       "       'TypeDelivery', 'NumberLiveBirth', 'NumberDeathNeonate',\n",
       "       'NumberAboration', 'EthnicNumber', 'familymarrige', 'Neonateweight',\n",
       "       'taneshlife', 'Paritypregnancy', 'Contraceptionbeforepregnancy',\n",
       "       'Smokingduringpregnancy', 'Smokingparents',\n",
       "       'Previousoutcomepregnanancy'],\n",
       "      dtype='object')"
      ]
     },
     "execution_count": 12,
     "metadata": {},
     "output_type": "execute_result"
    }
   ],
   "source": [
    "data.columns"
   ]
  },
  {
   "cell_type": "markdown",
   "id": "ffb1af4b",
   "metadata": {},
   "source": [
    "#### To use the scikit-learn library, we have to convert the Pandas data frame to a Numpy array:\n"
   ]
  },
  {
   "cell_type": "code",
   "execution_count": 15,
   "id": "b69d5d98",
   "metadata": {},
   "outputs": [
    {
     "data": {
      "text/plain": [
       "array([[ 1,  4, 19,  3,  5,  1,  0,  1,  0,  1,  2,  2,  1,  1,  2,  2,\n",
       "         2],\n",
       "       [ 1,  1, 33,  1,  5,  2,  3,  1,  2,  1,  2,  2,  3,  6,  2,  2,\n",
       "         2],\n",
       "       [ 1,  4, 24,  3,  5,  1,  1,  1,  0,  1,  2,  2,  1,  2,  1,  2,\n",
       "         2],\n",
       "       [ 1,  2, 35,  3,  5,  1,  2,  1,  3,  1,  2,  4,  1,  6,  1,  2,\n",
       "         2],\n",
       "       [ 1,  1, 44,  3,  5,  2,  8,  1,  0,  1,  2,  4,  2,  9,  2,  2,\n",
       "         2]], dtype=int64)"
      ]
     },
     "execution_count": 15,
     "metadata": {},
     "output_type": "execute_result"
    }
   ],
   "source": [
    "X = data[['JobNumber', 'MoEducate','MoAge', 'MoBloodGroup', 'CityNumber', 'TypeDelivery', 'NumberLiveBirth','NumberDeathNeonate', 'NumberAboration', 'EthnicNumber', 'familymarrige', 'Neonateweight', 'taneshlife', 'Paritypregnancy', 'Contraceptionbeforepregnancy', 'Smokingduringpregnancy', 'Smokingparents']] .values  #.astype(float)\n",
    "X[0:5]"
   ]
  },
  {
   "cell_type": "code",
   "execution_count": 16,
   "id": "2e09e5dc",
   "metadata": {},
   "outputs": [
    {
     "data": {
      "text/plain": [
       "array([4, 1, 1, 3, 1], dtype=int64)"
      ]
     },
     "execution_count": 16,
     "metadata": {},
     "output_type": "execute_result"
    }
   ],
   "source": [
    "y = data['Previousoutcomepregnanancy'].values\n",
    "y[0:5]"
   ]
  },
  {
   "cell_type": "markdown",
   "id": "b4010a7c",
   "metadata": {},
   "source": [
    "#### Normalize Data\n",
    "Data Standardization gives the data zero mean and unit variance, it is good practice, especially for algorithms such as KNN which is based on the distance of data points:\n"
   ]
  },
  {
   "cell_type": "code",
   "execution_count": 17,
   "id": "62821c65",
   "metadata": {},
   "outputs": [
    {
     "name": "stdout",
     "output_type": "stream",
     "text": [
      "[[ 1  4 19  3  5  1  0  1  0  1  2  2  1  1  2  2  2]\n",
      " [ 1  1 33  1  5  2  3  1  2  1  2  2  3  6  2  2  2]\n",
      " [ 1  4 24  3  5  1  1  1  0  1  2  2  1  2  1  2  2]\n",
      " [ 1  2 35  3  5  1  2  1  3  1  2  4  1  6  1  2  2]\n",
      " [ 1  1 44  3  5  2  8  1  0  1  2  4  2  9  2  2  2]]\n"
     ]
    },
    {
     "data": {
      "text/plain": [
       "array([[-0.23170533,  0.71492773, -1.4238584 , -0.44113812, -0.90592972,\n",
       "        -0.68907425, -1.48963818,  1.04862627, -0.30958493, -0.59267807,\n",
       "         0.65899799,  0.11096772, -1.41646352, -0.91009343,  0.91467681,\n",
       "         0.23304522,  0.64407337],\n",
       "       [-0.23170533, -2.03523782,  0.94548821, -1.40764744, -0.90592972,\n",
       "         1.45122242,  0.97390906,  1.04862627,  3.19449668, -0.59267807,\n",
       "         0.65899799,  0.11096772,  1.1987268 ,  2.58841218,  0.91467681,\n",
       "         0.23304522,  0.64407337],\n",
       "       [-0.23170533,  0.71492773, -0.57766319, -0.44113812, -0.90592972,\n",
       "        -0.68907425, -0.66845577,  1.04862627, -0.30958493, -0.59267807,\n",
       "         0.65899799,  0.11096772, -1.41646352, -0.21039231, -1.09328234,\n",
       "         0.23304522,  0.64407337],\n",
       "       [-0.23170533, -1.11851597,  1.28396629, -0.44113812, -0.90592972,\n",
       "        -0.68907425,  0.15272665,  1.04862627,  4.94653749, -0.59267807,\n",
       "         0.65899799,  2.36337636, -1.41646352,  2.58841218, -1.09328234,\n",
       "         0.23304522,  0.64407337],\n",
       "       [-0.23170533, -2.03523782,  2.80711768, -0.44113812, -0.90592972,\n",
       "         1.45122242,  5.07982114,  1.04862627, -0.30958493, -0.59267807,\n",
       "         0.65899799,  2.36337636, -0.10886836,  4.68751554,  0.91467681,\n",
       "         0.23304522,  0.64407337]])"
      ]
     },
     "execution_count": 17,
     "metadata": {},
     "output_type": "execute_result"
    }
   ],
   "source": [
    "print(X[0:5])\n",
    "scaler = preprocessing.StandardScaler().fit(X)\n",
    "X = scaler.transform(X.astype(float))\n",
    "X[0:5]"
   ]
  },
  {
   "cell_type": "markdown",
   "id": "25ba663c",
   "metadata": {},
   "source": [
    "#### Train Test Split\n",
    "Out of Sample Accuracy is the percentage of correct predictions that the model makes on data that that the model has NOT been trained on. Doing a train and test on the same dataset will most likely have low out-of-sample accuracy, due to the likelihood of our model overfitting.\n",
    "\n",
    "It is important that our models have a high, out-of-sample accuracy, because the purpose of any model, of course, is to make correct predictions on unknown data. So how can we improve out-of-sample accuracy? One way is to use an evaluation approach called Train/Test Split. Train/Test Split involves splitting the dataset into training and testing sets respectively, which are mutually exclusive. After which, you train with the training set and test with the testing set.\n",
    "\n",
    "This will provide a more accurate evaluation on out-of-sample accuracy because the testing dataset is not part of the dataset that has been used to train the model. It is more realistic for real world problems.\n"
   ]
  },
  {
   "cell_type": "code",
   "execution_count": 18,
   "id": "2dff0762",
   "metadata": {},
   "outputs": [
    {
     "name": "stdout",
     "output_type": "stream",
     "text": [
      "Train set: (2671, 17) (2671,)\n",
      "Test set: (668, 17) (668,)\n"
     ]
    }
   ],
   "source": [
    "from sklearn.model_selection import train_test_split\n",
    "X_train, X_test, y_train, y_test = train_test_split( X, y, test_size=0.2, random_state=4)\n",
    "print ('Train set:', X_train.shape,  y_train.shape)\n",
    "print ('Test set:', X_test.shape,  y_test.shape)"
   ]
  },
  {
   "cell_type": "markdown",
   "id": "0d75c643",
   "metadata": {},
   "source": [
    "## Classification\n",
    "#### K nearest neighbor (KNN)\n",
    "\n"
   ]
  },
  {
   "cell_type": "code",
   "execution_count": 19,
   "id": "db035e6b",
   "metadata": {},
   "outputs": [],
   "source": [
    "from sklearn.neighbors import KNeighborsClassifier\n"
   ]
  },
  {
   "cell_type": "markdown",
   "id": "c0369ace",
   "metadata": {},
   "source": [
    "#### Training\n",
    "\n",
    "Let's start the algorithm with k=4 for now:\n",
    "\n"
   ]
  },
  {
   "cell_type": "code",
   "execution_count": 20,
   "id": "2b8d5b65",
   "metadata": {},
   "outputs": [
    {
     "data": {
      "text/plain": [
       "KNeighborsClassifier(n_neighbors=4)"
      ]
     },
     "execution_count": 20,
     "metadata": {},
     "output_type": "execute_result"
    }
   ],
   "source": [
    "k = 4\n",
    "#Train Model and Predict  \n",
    "neigh = KNeighborsClassifier(n_neighbors = k).fit(X_train,y_train)\n",
    "neigh"
   ]
  },
  {
   "cell_type": "code",
   "execution_count": 21,
   "id": "2b93c050",
   "metadata": {},
   "outputs": [
    {
     "name": "stdout",
     "output_type": "stream",
     "text": [
      "[4 4 4 1 1]\n",
      "[4 1 1 3 1]\n"
     ]
    }
   ],
   "source": [
    "yhat = neigh.predict(X_test)\n",
    "print (yhat[0:5])\n",
    "print (y[0:5])"
   ]
  },
  {
   "cell_type": "code",
   "execution_count": 22,
   "id": "abedc73b",
   "metadata": {},
   "outputs": [
    {
     "name": "stdout",
     "output_type": "stream",
     "text": [
      "Train set Accuracy:  0.8640958442530887\n",
      "Test set Accuracy:  0.8023952095808383\n"
     ]
    }
   ],
   "source": [
    "from sklearn import metrics\n",
    "print(\"Train set Accuracy: \", metrics.accuracy_score(y_train, neigh.predict(X_train)))\n",
    "print(\"Test set Accuracy: \", metrics.accuracy_score(y_test, yhat))"
   ]
  },
  {
   "cell_type": "markdown",
   "id": "7daf361d",
   "metadata": {},
   "source": [
    "#### What about other K?\n",
    "K in KNN, is the number of nearest neighbors to examine. It is supposed to be specified by the user. So, how can we choose right value for K? The general solution is to reserve a part of your data for testing the accuracy of the model. Then choose \n",
    "k =1, use the training part for modeling, and calculate the accuracy of prediction using all samples in your test set. Repeat this process, increasing the k, and see which k is the best for your model.\n",
    "\n",
    "We can calculate the accuracy of KNN for different values of k.\n"
   ]
  },
  {
   "cell_type": "code",
   "execution_count": 23,
   "id": "e07760d1",
   "metadata": {},
   "outputs": [
    {
     "data": {
      "text/plain": [
       "array([0.79640719, 0.78143713, 0.80838323, 0.80239521, 0.80838323,\n",
       "       0.79491018, 0.80389222, 0.79640719, 0.81437126])"
      ]
     },
     "execution_count": 23,
     "metadata": {},
     "output_type": "execute_result"
    }
   ],
   "source": [
    "Ks = 10\n",
    "mean_acc = np.zeros((Ks-1))\n",
    "std_acc = np.zeros((Ks-1))\n",
    "\n",
    "for n in range(1,Ks):\n",
    "    \n",
    "    #Train Model and Predict  \n",
    "    neigh = KNeighborsClassifier(n_neighbors = n).fit(X_train,y_train)\n",
    "    yhat=neigh.predict(X_test)\n",
    "    mean_acc[n-1] = metrics.accuracy_score(y_test, yhat)\n",
    "\n",
    "    \n",
    "    std_acc[n-1]=np.std(yhat==y_test)/np.sqrt(yhat.shape[0])\n",
    "\n",
    "mean_acc"
   ]
  },
  {
   "cell_type": "code",
   "execution_count": 24,
   "id": "6d5ee66c",
   "metadata": {},
   "outputs": [
    {
     "data": {
      "image/png": "[encoded data removed]",
      "text/plain": [
       "<Figure size 432x288 with 1 Axes>"
      ]
     },
     "metadata": {
      "needs_background": "light"
     },
     "output_type": "display_data"
    }
   ],
   "source": [
    "plt.plot(range(1,Ks),mean_acc,'g')\n",
    "plt.fill_between(range(1,Ks),mean_acc - 1 * std_acc,mean_acc + 1 * std_acc, alpha=0.10)\n",
    "plt.fill_between(range(1,Ks),mean_acc - 3 * std_acc,mean_acc + 3 * std_acc, alpha=0.10,color=\"green\")\n",
    "plt.legend(('Accuracy ', '+/- 1xstd','+/- 3xstd'))\n",
    "plt.ylabel('Accuracy ')\n",
    "plt.xlabel('Number of Neighbors (K)')\n",
    "plt.tight_layout()\n",
    "plt.show()"
   ]
  },
  {
   "cell_type": "code",
   "execution_count": 25,
   "id": "0aef913b",
   "metadata": {},
   "outputs": [
    {
     "name": "stdout",
     "output_type": "stream",
     "text": [
      "The best accuracy was with 0.8143712574850299 with k= 9\n"
     ]
    }
   ],
   "source": [
    "print( \"The best accuracy was with\", mean_acc.max(), \"with k=\", mean_acc.argmax()+1)\n"
   ]
  },
  {
   "cell_type": "markdown",
   "id": "0b991250",
   "metadata": {},
   "source": [
    "### predict\n"
   ]
  },
  {
   "cell_type": "code",
   "execution_count": 29,
   "id": "74d00308",
   "metadata": {},
   "outputs": [
    {
     "data": {
      "text/plain": [
       "array([1], dtype=int64)"
      ]
     },
     "execution_count": 29,
     "metadata": {},
     "output_type": "execute_result"
    }
   ],
   "source": [
    "nx = [[ 1, 4, 59, 3, 5, 1, 0, 1, 0, 1, 2, 2, 1, 1, 2, 2, 2 ]]\n",
    "nxs = scaler.transform(nx)\n",
    "neigh.predict(nxs)\n",
    "\n"
   ]
  },
  {
   "cell_type": "code",
   "execution_count": null,
   "id": "7337ae22",
   "metadata": {},
   "outputs": [],
   "source": []
  }
 ],
 "metadata": {
  "kernelspec": {
   "display_name": "Python 3",
   "language": "python",
   "name": "python3"
  },
  "language_info": {
   "codemirror_mode": {
    "name": "ipython",
    "version": 3
   },
   "file_extension": ".py",
   "mimetype": "text/x-python",
   "name": "python",
   "nbconvert_exporter": "python",
   "pygments_lexer": "ipython3",
   "version": "3.8.8"
  }
 },
 "nbformat": 4,
 "nbformat_minor": 5
}
